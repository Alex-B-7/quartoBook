{
  "cells": [
    {
      "cell_type": "markdown",
      "metadata": {},
      "source": [
        "# Connect to GitHub\n",
        "\n",
        "Objective: make sure that you can pull from and push to GitHub from your computer.\n",
        "\n",
        "### Make a repo on GitHub\n",
        "\n",
        "Go to [https://github.com](https://github.com/) and make sure you are logged in.\n",
        "\n",
        "Near “Repositories”, click the big green “New” button. Or, if you are on your own profile page, click on “Repositories”, then click the big green “New” button.\n",
        "\n",
        "How to fill this in:\n",
        "\n",
        "-   Repository template: No template.\n",
        "\n",
        "-   Repository name: `myrepo` or whatever you wish (we’ll delete this soon).\n",
        "\n",
        "-   Description: “Repository for testing my Git/GitHub setup” or similar. It’s nice to have something here, so you’ll see it appear in the README.\n",
        "\n",
        "-   Public.\n",
        "\n",
        "-   Initialize this repository with: Add a README file.\n",
        "\n",
        "Click the big green button that says “Create repository”.\n",
        "\n",
        "Now click the big green button that says “\\<\\> Code”.\n",
        "\n",
        "Copy a clone URL to your clipboard. If you’re taking our default advice, copy the HTTPS URL. But if you’re opting for SSH, then make sure to copy the SSH URL.\n",
        "\n",
        "![](https://happygitwithr.com/img/github-https-or-ssh-url-annotated.png)\n",
        "\n",
        "### Clone the repo to your local computer\n",
        "\n",
        "We have a few ways to do this. Here we use command line Git. In section [15](https://happygitwithr.com/new-github-first#new-github-first), we show other methods that you might prefer in daily life: using usethis or the RStudio IDE.\n",
        "\n",
        "Go to the shell (Appendix [A](https://happygitwithr.com/shell#shell)).\n",
        "\n",
        "Take charge of – or at least notice! – what directory you’re in. `pwd` displays the working directory. `cd` is the command to change directory. Personally, I would do this sort of thing in `~/tmp`.\n",
        "\n",
        "Clone `myrepo` from GitHub to your computer. Use the URL we just copied from GitHub. This URL should have **your GitHub username** and the name of **your practice repo**. If your shell (Appendix [A](https://happygitwithr.com/shell#shell)) cooperates, you should be able to paste the whole `https://....` bit that we copied above. But some shells are not (immediately) clipboard aware. In that sad case, you must type it. **Accurately.**\n",
        "\n",
        "\n",
        "\n",
        "```{git clone https://github.com/YOUR-USERNAME/YOUR-REPOSITORY.git}\n",
        "```"
      ],
      "id": "ddb9f9a1"
    }
  ],
  "metadata": {
    "kernelspec": {
      "display_name": "Python 3",
      "language": "python",
      "name": "python3"
    }
  },
  "nbformat": 4,
  "nbformat_minor": 5
}